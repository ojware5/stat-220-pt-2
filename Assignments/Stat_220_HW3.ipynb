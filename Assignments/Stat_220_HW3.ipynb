{
  "cells": [
    {
      "cell_type": "markdown",
      "id": "cde00f3c",
      "metadata": {
        "id": "cde00f3c"
      },
      "source": [
        "[![Open in Colab](https://colab.research.google.com/assets/colab-badge.svg)](https://colab.research.google.com/github/drbob-richardson/stat220/blob/main/Assignments/Stat_220_HW3.ipynb)"
      ]
    },
    {
      "cell_type": "markdown",
      "id": "4ad50bf3",
      "metadata": {
        "id": "4ad50bf3"
      },
      "source": [
        "# Homework 3\n",
        "Stat 220"
      ]
    },
    {
      "cell_type": "code",
      "execution_count": 1,
      "id": "5327b315",
      "metadata": {
        "id": "5327b315"
      },
      "outputs": [],
      "source": [
        "\n",
        "import numpy as np\n",
        "import matplotlib.pyplot as plt\n",
        "from scipy.stats import norm, uniform, expon"
      ]
    },
    {
      "cell_type": "markdown",
      "id": "eb023830",
      "metadata": {
        "id": "eb023830"
      },
      "source": [
        "## Problem 1\n",
        "Let X be a normal random variable with mean 8 and standard deviation 4. Find the following probabilities:"
      ]
    },
    {
      "cell_type": "markdown",
      "id": "6e961dfd",
      "metadata": {
        "id": "6e961dfd"
      },
      "source": [
        "A. $Pr( X > 10)$"
      ]
    },
    {
      "cell_type": "code",
      "execution_count": 9,
      "id": "4c515347",
      "metadata": {
        "id": "4c515347",
        "outputId": "d0130c4d-c897-417a-9d46-9aee94244458",
        "colab": {
          "base_uri": "https://localhost:8080/"
        }
      },
      "outputs": [
        {
          "output_type": "stream",
          "name": "stdout",
          "text": [
            "P(X > 10) = 0.3085\n"
          ]
        }
      ],
      "source": [
        "#probability is equal to 1-F(10)\n",
        "mu, sigma = 8, 4\n",
        "a = 10\n",
        "p_a = 1 - norm.cdf(a, mu, sigma)\n",
        "print(f\"P(X > 10) = {p_a:.4f}\")"
      ]
    },
    {
      "cell_type": "markdown",
      "id": "30b560b4",
      "metadata": {
        "id": "30b560b4"
      },
      "source": [
        "B. Pr(X > 10 and X < 12)\n"
      ]
    },
    {
      "cell_type": "code",
      "execution_count": 10,
      "id": "6b1eef09",
      "metadata": {
        "id": "6b1eef09",
        "outputId": "34f13bde-4fdf-48ad-b49f-f6f41042f236",
        "colab": {
          "base_uri": "https://localhost:8080/"
        }
      },
      "outputs": [
        {
          "output_type": "stream",
          "name": "stdout",
          "text": [
            "P(10 <= X <= 12) = 0.1499\n"
          ]
        }
      ],
      "source": [
        "#probability is equal to F(12) - F(10)\n",
        "b = 12\n",
        "p_a_and_b = norm.cdf(b, mu, sigma) -  norm.cdf(a, mu, sigma)\n",
        "print(f\"P({a} <= X <= {b}) = {p_a_and_b:.4f}\")"
      ]
    },
    {
      "cell_type": "markdown",
      "id": "95c50255",
      "metadata": {
        "id": "95c50255"
      },
      "source": [
        "C. Pr(X > 10|X < 12)"
      ]
    },
    {
      "cell_type": "code",
      "execution_count": 13,
      "id": "8a616905",
      "metadata": {
        "id": "8a616905",
        "outputId": "d6649550-1928-4a3e-cb81-11b99b7d4dfa",
        "colab": {
          "base_uri": "https://localhost:8080/"
        }
      },
      "outputs": [
        {
          "output_type": "stream",
          "name": "stdout",
          "text": [
            "P(X > 10|X < 12) = 0.1781\n"
          ]
        }
      ],
      "source": [
        "#probability is equal to 10<X<12/F(12)\n",
        "conditional = p_a_and_b / norm.cdf(b, mu, sigma)\n",
        "print(f\"P(X > 10|X < 12) = {conditional:.4f}\")"
      ]
    },
    {
      "cell_type": "markdown",
      "id": "798178d6",
      "metadata": {
        "id": "798178d6"
      },
      "source": [
        "D. Pr(X > 10|X > 8)"
      ]
    },
    {
      "cell_type": "code",
      "execution_count": 15,
      "id": "d4d3f6ec",
      "metadata": {
        "id": "d4d3f6ec",
        "outputId": "315b67ab-75a5-421e-e43f-e6aebd555cf2",
        "colab": {
          "base_uri": "https://localhost:8080/"
        }
      },
      "outputs": [
        {
          "output_type": "stream",
          "name": "stdout",
          "text": [
            "P(X > 10|X > 8) = 0.6171\n"
          ]
        }
      ],
      "source": [
        "# probability is equal to F(10)/F(8)\n",
        "c = 8\n",
        "p_c = 1- norm.cdf(c, mu, sigma)\n",
        "conditional = p_a / p_c\n",
        "print(f\"P(X > 10|X > 8) = {conditional:.4f}\")"
      ]
    },
    {
      "cell_type": "markdown",
      "id": "b74e1b27",
      "metadata": {
        "id": "b74e1b27"
      },
      "source": [
        "E. Pr(X > 10 and X > 8)"
      ]
    },
    {
      "cell_type": "code",
      "execution_count": 18,
      "id": "2fa082a2",
      "metadata": {
        "id": "2fa082a2",
        "outputId": "ce082bb2-65fd-43ae-b4ee-6110c695a839",
        "colab": {
          "base_uri": "https://localhost:8080/"
        }
      },
      "outputs": [
        {
          "output_type": "stream",
          "name": "stdout",
          "text": [
            "P(8 <= X <= 10) = 0.3085\n"
          ]
        }
      ],
      "source": [
        "# probability is equal to Pr(X>10)\n",
        "print(f\"P({c} <= X <= {a}) = {p_a:.4f}\")"
      ]
    },
    {
      "cell_type": "markdown",
      "id": "bfedf435",
      "metadata": {
        "id": "bfedf435"
      },
      "source": [
        "## Problem\n",
        "Airline departure delays (in minutes) are modeled by an exponential distribution with **mean 15 minutes**."
      ]
    },
    {
      "cell_type": "markdown",
      "id": "fe2bb9da",
      "metadata": {
        "id": "fe2bb9da"
      },
      "source": [
        "A. What is the rate parameter, $\\lambda$?"
      ]
    },
    {
      "cell_type": "markdown",
      "id": "eb80f673",
      "metadata": {
        "id": "eb80f673"
      },
      "source": [
        "1/15 minutes"
      ]
    },
    {
      "cell_type": "markdown",
      "id": "f25087ad",
      "metadata": {
        "id": "f25087ad"
      },
      "source": [
        "B. What is the probability a flight is delayed less than 10 minutes?\n",
        "\n",
        "\n"
      ]
    },
    {
      "cell_type": "code",
      "execution_count": 23,
      "id": "8d52f062",
      "metadata": {
        "id": "8d52f062",
        "outputId": "89794026-8488-4661-b7c6-b7cfe0992920",
        "colab": {
          "base_uri": "https://localhost:8080/"
        }
      },
      "outputs": [
        {
          "output_type": "stream",
          "name": "stdout",
          "text": [
            "P(X < 10) = 0.4866\n"
          ]
        }
      ],
      "source": [
        "#probability is X<10 = F(10) = 1 - e^-15x\n",
        "lam = 1/15\n",
        "a = 10\n",
        "p_a = expon.cdf(a, scale=1/lam)\n",
        "print(f\"P(X < 10) = {p_a:.4f}\")\n"
      ]
    },
    {
      "cell_type": "markdown",
      "id": "0bf7f36b",
      "metadata": {
        "id": "0bf7f36b"
      },
      "source": [
        "C. What is the probability a flight is delayed more than 30 minutes?"
      ]
    },
    {
      "cell_type": "code",
      "execution_count": 24,
      "id": "411794d9",
      "metadata": {
        "id": "411794d9",
        "outputId": "7cafb9b6-9f72-4692-d82e-d10d160ff083",
        "colab": {
          "base_uri": "https://localhost:8080/"
        }
      },
      "outputs": [
        {
          "output_type": "stream",
          "name": "stdout",
          "text": [
            "P(X > 30) = 0.1353\n"
          ]
        }
      ],
      "source": [
        "#probability is X>30 = 1 - F(30)\n",
        "a = 30\n",
        "p_a = 1 - expon.cdf(a, scale=1/lam)\n",
        "print(f\"P(X > 30) = {p_a:.4f}\")"
      ]
    },
    {
      "cell_type": "markdown",
      "id": "f727c8f6",
      "metadata": {
        "id": "f727c8f6"
      },
      "source": [
        "D. Find the 75th percentile delay time."
      ]
    },
    {
      "cell_type": "code",
      "execution_count": 26,
      "id": "f052eb8a",
      "metadata": {
        "id": "f052eb8a",
        "outputId": "dbf7d4a3-dddd-48d5-c9ca-3ca8e4c107b5",
        "colab": {
          "base_uri": "https://localhost:8080/"
        }
      },
      "outputs": [
        {
          "output_type": "stream",
          "name": "stdout",
          "text": [
            "75th percentile = 20.7944\n"
          ]
        }
      ],
      "source": [
        "#F(q) = 1-e^-q/15 = 0.75\n",
        "q75 = expon.ppf(0.75, scale=1/lam)\n",
        "print(f\"75th percentile = {q75:.4f}\")"
      ]
    },
    {
      "cell_type": "markdown",
      "id": "16be50b5",
      "metadata": {
        "id": "16be50b5"
      },
      "source": [
        "## Problem 3\n",
        "A computer simulation generates values uniformly between **100** and **200**.\n"
      ]
    },
    {
      "cell_type": "markdown",
      "id": "70046ef8",
      "metadata": {
        "id": "70046ef8"
      },
      "source": [
        "A. Compute the mean and variance."
      ]
    },
    {
      "cell_type": "code",
      "execution_count": 27,
      "id": "c48d70a7",
      "metadata": {
        "id": "c48d70a7",
        "outputId": "c410a1af-d240-42da-bcac-ce97f517ec0d",
        "colab": {
          "base_uri": "https://localhost:8080/"
        }
      },
      "outputs": [
        {
          "output_type": "stream",
          "name": "stdout",
          "text": [
            "Mean = 150.0000\n",
            "Variance = 833.3333\n"
          ]
        }
      ],
      "source": [
        "a, b = 100, 200\n",
        "mean = (a + b) /2\n",
        "variance = (b - a)**2 / 12\n",
        "print(f\"Mean = {mean:.4f}\")\n",
        "print(f\"Variance = {variance:.4f}\")"
      ]
    },
    {
      "cell_type": "markdown",
      "id": "05a984cf",
      "metadata": {
        "id": "05a984cf"
      },
      "source": [
        "B. What is the probability the value falls between 120 and 150?"
      ]
    },
    {
      "cell_type": "code",
      "execution_count": 30,
      "id": "a4aebb2c",
      "metadata": {
        "id": "a4aebb2c",
        "outputId": "86b5b35b-bfba-47dc-d67c-d8a266f986fc",
        "colab": {
          "base_uri": "https://localhost:8080/"
        }
      },
      "outputs": [
        {
          "output_type": "stream",
          "name": "stdout",
          "text": [
            "P(120 <= X <= 150) = 0.3000\n"
          ]
        }
      ],
      "source": [
        "p = uniform.cdf(150, a, b-a) - uniform.cdf(120, a, b-a)\n",
        "print(f\"P(120 <= X <= 150) = {p:.4f}\")"
      ]
    },
    {
      "cell_type": "markdown",
      "id": "45741b2e",
      "metadata": {
        "id": "45741b2e"
      },
      "source": [
        "C. Find the 10th and 90th percentiles."
      ]
    },
    {
      "cell_type": "code",
      "execution_count": 31,
      "id": "9f962d7f",
      "metadata": {
        "id": "9f962d7f",
        "outputId": "540852a6-9fc6-44de-fc7b-9cb6c0ae4fcf",
        "colab": {
          "base_uri": "https://localhost:8080/"
        }
      },
      "outputs": [
        {
          "output_type": "stream",
          "name": "stdout",
          "text": [
            "10th percentile = 110.0000\n",
            "90th percentile = 190.0000\n"
          ]
        }
      ],
      "source": [
        "q10 = uniform.ppf(0.1, a, b-a)\n",
        "q90 = uniform.ppf(0.9, a, b-a)\n",
        "print(f\"10th percentile = {q10:.4f}\")\n",
        "print(f\"90th percentile = {q90:.4f}\")"
      ]
    },
    {
      "cell_type": "markdown",
      "id": "b0a10da6",
      "metadata": {
        "id": "b0a10da6"
      },
      "source": [
        "## Problem 4:\n",
        "Assume weights of a certain dog breed are $X\\sim \\mathcal{N}(60, 8)$ lbs.\n"
      ]
    },
    {
      "cell_type": "markdown",
      "id": "6c6e3c52",
      "metadata": {
        "id": "6c6e3c52"
      },
      "source": [
        "A. Using the **68–95–99.7** rule, approximate:\n",
        "   - $P(52 \\le X \\le 68)$,\n",
        "   - $P(44 \\le X \\le 76)$,\n",
        "   - $P(36 \\le X \\le 84)$."
      ]
    },
    {
      "cell_type": "code",
      "execution_count": 40,
      "id": "6237fd8e",
      "metadata": {
        "id": "6237fd8e",
        "outputId": "bc69a81a-30dc-4932-f670-8df10557ec2e",
        "colab": {
          "base_uri": "https://localhost:8080/"
        }
      },
      "outputs": [
        {
          "output_type": "stream",
          "name": "stdout",
          "text": [
            "P(52 <= X <= 68) ≈ 0.68\n",
            "P(44 <= X <= 76) ≈ 0.95\n",
            "P(36 <= X <= 84) ≈ 0.997\n"
          ]
        }
      ],
      "source": [
        "mu, sigma = 60, 8\n",
        "\n",
        "def formulas(a, b):\n",
        "    if a == mu - sigma and b == mu + sigma:\n",
        "        return 0.68\n",
        "    elif a == mu - 2*sigma and b == mu + 2*sigma:\n",
        "        return 0.95\n",
        "    elif a == mu - 3*sigma and b == mu + 3*sigma:\n",
        "        return 0.997\n",
        "\n",
        "probabilities = [(52, 68), (44, 76), (36, 84)]\n",
        "\n",
        "for a, b in probabilities:\n",
        "    prob = formulas(a, b)\n",
        "    print(f\"P({a} <= X <= {b}) ≈ {prob}\")\n"
      ]
    },
    {
      "cell_type": "markdown",
      "id": "2ba40fcf",
      "metadata": {
        "id": "2ba40fcf"
      },
      "source": [
        "B. Compute the exact probabilities with the Normal CDF to compare.\n"
      ]
    },
    {
      "cell_type": "code",
      "execution_count": 44,
      "id": "d36f236c",
      "metadata": {
        "id": "d36f236c",
        "outputId": "e6edeb79-0d9a-4d12-b00c-af2f9b8465d8",
        "colab": {
          "base_uri": "https://localhost:8080/"
        }
      },
      "outputs": [
        {
          "output_type": "stream",
          "name": "stdout",
          "text": [
            "P(52 <= X <= 68) ≈  0.683\n",
            "P(44 <= X <= 76) ≈  0.954\n",
            "P(36 <= X <= 84) ≈  0.997\n"
          ]
        }
      ],
      "source": [
        "def formula(a, b):\n",
        "  return norm.cdf(b, mu, sigma) - norm.cdf(a, mu, sigma)\n",
        "\n",
        "for a, b in probabilities:\n",
        "    probability = formula(a, b)\n",
        "    print(f\"P({a} <= X <= {b}) ≈ {probability: .3f}\")"
      ]
    },
    {
      "cell_type": "markdown",
      "id": "52ee8e2f",
      "metadata": {
        "id": "52ee8e2f"
      },
      "source": [
        "C. Using the Normal table to find $P(X \\le 70)$."
      ]
    },
    {
      "cell_type": "markdown",
      "id": "0442a71e",
      "metadata": {
        "id": "0442a71e"
      },
      "source": [
        "0.8944"
      ]
    },
    {
      "cell_type": "markdown",
      "id": "d46ae1c9",
      "metadata": {
        "id": "d46ae1c9"
      },
      "source": [
        "D. Use scipy functions to find $P(X \\le 70)$. How does it compare?"
      ]
    },
    {
      "cell_type": "code",
      "execution_count": 46,
      "id": "b6e6ed9c",
      "metadata": {
        "id": "b6e6ed9c",
        "outputId": "15f4e67a-a3c5-4c31-e352-6a81ecd9067f",
        "colab": {
          "base_uri": "https://localhost:8080/"
        }
      },
      "outputs": [
        {
          "output_type": "stream",
          "name": "stdout",
          "text": [
            "P(X <= 70) = 0.8944\n",
            "The normal table gave 0.8944 compared to  0.8944. The answers are the same.\n"
          ]
        }
      ],
      "source": [
        "p = norm.cdf(70, mu, sigma)\n",
        "print(f\"P(X <= 70) = {p:.4f}\")\n",
        "print(f'The normal table gave 0.8944 compared to {p: .4f}. The answers are the same.')"
      ]
    },
    {
      "cell_type": "markdown",
      "id": "b87d02cf",
      "metadata": {
        "id": "b87d02cf"
      },
      "source": [
        "E. Find the weight that marks the **top 5\\%** of dogs (the 95th percentile).\n"
      ]
    },
    {
      "cell_type": "code",
      "execution_count": 47,
      "id": "3769b40f",
      "metadata": {
        "id": "3769b40f",
        "outputId": "9e799362-c6ec-4b75-c22e-3530c0801a65",
        "colab": {
          "base_uri": "https://localhost:8080/"
        }
      },
      "outputs": [
        {
          "output_type": "stream",
          "name": "stdout",
          "text": [
            "Q95 = 73.1588\n"
          ]
        }
      ],
      "source": [
        "q95 = norm.ppf(0.95, mu, sigma)\n",
        "print(f\"Q95 = {q95:.4f}\")"
      ]
    },
    {
      "cell_type": "markdown",
      "id": "3d5adcae",
      "metadata": {
        "id": "3d5adcae"
      },
      "source": [
        "## Problem 5:\n",
        "Consider the following three random variables:\n",
        "\n",
        "- **A:** $X_A \\sim \\text{Unif}(120, 180)$\n",
        "- **B:** $X_B \\sim \\mathcal{N}(150, 20)$\n",
        "- **C:** $X_C \\sim \\text{Exp}(\\lambda=1/30)$ (units in minutes)\n"
      ]
    },
    {
      "cell_type": "markdown",
      "id": "674233e6",
      "metadata": {
        "id": "674233e6"
      },
      "source": [
        "A. Compute (or write down) the **mean** of each distribution and order the means from smallest to largest."
      ]
    },
    {
      "cell_type": "code",
      "execution_count": 60,
      "id": "8e248d42",
      "metadata": {
        "id": "8e248d42",
        "outputId": "aa745526-8f77-4efa-d749-7c6e2dc5804a",
        "colab": {
          "base_uri": "https://localhost:8080/"
        }
      },
      "outputs": [
        {
          "output_type": "stream",
          "name": "stdout",
          "text": [
            "Mean A: 150.0\n",
            "Mean B: 150.0\n",
            "Mean C: 30.0\n",
            "Sorted: [30.0, 150.0, 150.0]\n"
          ]
        }
      ],
      "source": [
        "mean_a = (120 + 180) / 2\n",
        "mean_b = 150.0\n",
        "mean_c = 1/(1/30)\n",
        "\n",
        "print(f'Mean A: {mean_a}')\n",
        "print(f'Mean B: {mean_b}')\n",
        "print(f'Mean C: {mean_c}')\n",
        "\n",
        "means = [mean_a, mean_b, mean_c]\n",
        "means.sort()\n",
        "print(f'Sorted: {means}')"
      ]
    },
    {
      "cell_type": "markdown",
      "id": "a7df3d77",
      "metadata": {
        "id": "a7df3d77"
      },
      "source": [
        "B. Compute the **variance** of each distribution and order the variances from smallest to largest.\n"
      ]
    },
    {
      "cell_type": "code",
      "execution_count": 66,
      "id": "9ba3146b",
      "metadata": {
        "id": "9ba3146b",
        "outputId": "c351d2e3-c463-4524-f8f6-51d520d0c932",
        "colab": {
          "base_uri": "https://localhost:8080/"
        }
      },
      "outputs": [
        {
          "output_type": "stream",
          "name": "stdout",
          "text": [
            "Variance A: 300.0\n",
            "Variance B:  400.0\n",
            "Variance C: 900.0\n",
            "Sorted: [300.0, 400, 900.0]\n"
          ]
        }
      ],
      "source": [
        "var_a = (180 - 120)**2 / 12\n",
        "var_b = 20**2\n",
        "var_c = 1/(1/30)**2\n",
        "\n",
        "print(f'Variance A: {var_a}')\n",
        "print(f'Variance B: {var_b: .1f}')\n",
        "print(f'Variance C: {var_c}')\n",
        "\n",
        "vars = [var_a, var_b, var_c]\n",
        "vars.sort()\n",
        "print(f'Sorted: {vars}')"
      ]
    }
  ],
  "metadata": {
    "language_info": {
      "name": "python"
    },
    "colab": {
      "provenance": []
    },
    "kernelspec": {
      "name": "python3",
      "display_name": "Python 3"
    }
  },
  "nbformat": 4,
  "nbformat_minor": 5
}
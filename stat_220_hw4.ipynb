{
  "cells": [
    {
      "cell_type": "markdown",
      "metadata": {
        "id": "view-in-github",
        "colab_type": "text"
      },
      "source": [
        "<a href=\"https://colab.research.google.com/github/ojware5/stat-220-pt-2/blob/main/stat_220_hw4.ipynb\" target=\"_parent\"><img src=\"https://colab.research.google.com/assets/colab-badge.svg\" alt=\"Open In Colab\"/></a>"
      ]
    },
    {
      "cell_type": "markdown",
      "id": "77054585",
      "metadata": {
        "id": "77054585"
      },
      "source": [
        "[![Open in Colab](https://colab.research.google.com/assets/colab-badge.svg)](https://colab.research.google.com/github/drbob-richardson/stat220/blob/main/Assignments/Stat_220_HW4.ipynb)"
      ]
    },
    {
      "cell_type": "markdown",
      "id": "f8b4fe84",
      "metadata": {
        "id": "f8b4fe84"
      },
      "source": [
        "# Stat 220 — Homework 4:\n",
        "\n",
        "**Instructions**\n",
        "- Answer all questions. Show all work for full credit.\n",
        "- Use Python (NumPy/Matplotlib/SciPy) to compute values and make plots.\n",
        "- When a plot is requested, label axes and include a legend.\n",
        "- You may add cells as needed."
      ]
    },
    {
      "cell_type": "code",
      "execution_count": 51,
      "id": "573495b5",
      "metadata": {
        "id": "573495b5"
      },
      "outputs": [],
      "source": [
        "\n",
        "# Feel free to add any imports you want here.\n",
        "import math\n",
        "import numpy as np\n",
        "import matplotlib.pyplot as plt\n",
        "from scipy.stats import norm, expon, binom\n",
        "from scipy.optimize import minimize"
      ]
    },
    {
      "cell_type": "markdown",
      "id": "5bdee43f",
      "metadata": {
        "id": "5bdee43f"
      },
      "source": [
        "## Data (used in Q1–Q4)\n",
        "We use this small dataset throughout Questions 1–4:"
      ]
    },
    {
      "cell_type": "code",
      "execution_count": 12,
      "id": "c970bc83",
      "metadata": {
        "id": "c970bc83",
        "colab": {
          "base_uri": "https://localhost:8080/"
        },
        "outputId": "bb97d78f-13ad-4d96-92a3-c50bf3b78b25"
      },
      "outputs": [
        {
          "output_type": "execute_result",
          "data": {
            "text/plain": [
              "array([1.1, 3.4, 5.7, 1.9, 2.3, 4.1, 0.9, 1.6, 2.4, 0.5])"
            ]
          },
          "metadata": {},
          "execution_count": 12
        }
      ],
      "source": [
        "\n",
        "x = np.array([1.1, 3.4, 5.7, 1.9, 2.3, 4.1, 0.9, 1.6, 2.4, 0.5])\n",
        "n = len(x)\n",
        "x\n"
      ]
    },
    {
      "cell_type": "markdown",
      "id": "1f678832",
      "metadata": {
        "id": "1f678832"
      },
      "source": [
        "## Question 1 — Likelihood Function Practice\n",
        "\n",
        "You are given the dataset:\n",
        "\\[\n",
        "x = (1.1, 3.4, 5.7, 1.9, 2.3, 4.1, 0.9, 1.6, 2.4, 0.5).\n",
        "\\]\n",
        "\n"
      ]
    },
    {
      "cell_type": "markdown",
      "id": "eb238489",
      "metadata": {
        "id": "eb238489"
      },
      "source": [
        "**(a)** Derive the **likelihood function**  if the data are assumed to come from an **Exponential($\\lambda$)** distribution **with fixed $\\lambda = 0.5$**. Then **evaluate** the likelihood at the given data.\n",
        "\n",
        "\n"
      ]
    },
    {
      "cell_type": "code",
      "execution_count": 13,
      "id": "77733a1a",
      "metadata": {
        "id": "77733a1a",
        "colab": {
          "base_uri": "https://localhost:8080/"
        },
        "outputId": "dbd3de82-309b-4acd-8b86-661d4300449d"
      },
      "outputs": [
        {
          "output_type": "stream",
          "name": "stdout",
          "text": [
            "6.307844586963343e-09\n"
          ]
        }
      ],
      "source": [
        "# (λ)^n exp(-λ∑xi)\n",
        "# (0.5)^10 exp(-0.5∑xi)\n",
        "l = 0.5\n",
        "likelihood = (l**n)*np.exp(-l*np.sum(x))\n",
        "print(likelihood)\n"
      ]
    },
    {
      "cell_type": "markdown",
      "id": "37ed941c",
      "metadata": {
        "id": "37ed941c"
      },
      "source": [
        "**(b)** Derive the likelihood function if the data are assumed to come from a **Normal($\\mu,\\sigma^2$)** distribution **with fixed $\\mu = 2$, $\\sigma = 1$**. Then **evaluate** that likelihood at the data."
      ]
    },
    {
      "cell_type": "code",
      "execution_count": 14,
      "id": "d1798794",
      "metadata": {
        "id": "d1798794",
        "colab": {
          "base_uri": "https://localhost:8080/"
        },
        "outputId": "5ddb73fa-9428-46cb-d084-fe0f4b356d24"
      },
      "outputs": [
        {
          "output_type": "stream",
          "name": "stdout",
          "text": [
            "4.312274960371929e-10\n"
          ]
        }
      ],
      "source": [
        "# (2πσ^2)^-n/2 * exp[1/2σ^2 * Σ(xi - μ)^2]\n",
        "# (2π1^2)^-10/2 * exp[1/2*1^2 * Σ(xi - 2)^2]\n",
        "m, s = 2, 1\n",
        "likelihood = (2*np.pi*s**2) **(-n/2) * np.exp(-1/(2*s**2) * np.sum((x - m)**2))\n",
        "print(likelihood)"
      ]
    },
    {
      "cell_type": "markdown",
      "id": "276e7f05",
      "metadata": {
        "id": "276e7f05"
      },
      "source": [
        "## Question 2\n",
        "\n",
        "Assume the data are i.i.d. **Normal($\\mu,\\sigma^2$)** with both $\\mu$ and $\\sigma^2$ **unknown**.\n",
        "\n"
      ]
    },
    {
      "cell_type": "markdown",
      "id": "7ff83d10",
      "metadata": {
        "id": "7ff83d10"
      },
      "source": [
        "**(a)** Compute these MLEs for $\\mu$ and $\\sigma$ for the dataset.  \n"
      ]
    },
    {
      "cell_type": "code",
      "execution_count": 36,
      "id": "e1b6ec1b",
      "metadata": {
        "id": "e1b6ec1b",
        "colab": {
          "base_uri": "https://localhost:8080/"
        },
        "outputId": "abebc966-4f74-4e26-d238-c5efaac1600a"
      },
      "outputs": [
        {
          "output_type": "stream",
          "name": "stdout",
          "text": [
            "mu is 2.3900\n",
            "sigma is  1.5241\n"
          ]
        }
      ],
      "source": [
        "mu_hat = np.sum(x)/len(x)\n",
        "sig_hat = np.sqrt(np.sum((x-mu_mle)**2)/len(x))\n",
        "print(f'mu is {mu_mle:.4f}')\n",
        "print(f'sigma is {sigma_mle: .4f}')"
      ]
    },
    {
      "cell_type": "markdown",
      "id": "fb24a041",
      "metadata": {
        "id": "fb24a041"
      },
      "source": [
        "**(b)** Plot a **histogram** of the data with the **fitted Normal density** overlaid."
      ]
    },
    {
      "cell_type": "code",
      "execution_count": 37,
      "id": "ae6d69a8",
      "metadata": {
        "id": "ae6d69a8",
        "colab": {
          "base_uri": "https://localhost:8080/",
          "height": 490
        },
        "outputId": "b11d0e4a-e316-46ba-e8fb-219fca550799"
      },
      "outputs": [
        {
          "output_type": "execute_result",
          "data": {
            "text/plain": [
              "Text(0.5, 1.0, 'Normal fit (MLE): mu=2.39, sigma=1.52')"
            ]
          },
          "metadata": {},
          "execution_count": 37
        },
        {
          "output_type": "display_data",
          "data": {
            "text/plain": [
              "<Figure size 640x480 with 1 Axes>"
            ],
            "image/png": "[encoded data removed]"
          },
          "metadata": {}
        }
      ],
      "source": [
        "n = len(x); xbar = float(np.mean(x)); sigma = sig_hat\n",
        "\n",
        "def ll_norm_mu(mu, sigma=sigma):\n",
        "    return np.sum(np.log(norm.pdf(x, mu, sigma)))\n",
        "\n",
        "\n",
        "sigma_hat = float(np.sqrt(np.mean((x - xbar)**2)))\n",
        "plt.figure(); _ = plt.hist(x, bins=15, density=True, alpha=0.5)\n",
        "xx = np.linspace(x.min()-1, x.max()+1, 400)\n",
        "plt.plot(xx, norm.pdf(xx, xbar, sigma_hat))\n",
        "plt.xlabel(\"x\"); plt.ylabel(\"density\"); plt.title(f\"Normal fit (MLE): mu={xbar:.2f}, sigma={sigma_hat:.2f}\")"
      ]
    },
    {
      "cell_type": "markdown",
      "id": "b90c8528",
      "metadata": {
        "id": "b90c8528"
      },
      "source": [
        "## Question 3\n",
        "\n",
        "Assume the data are i.i.d. **Exponential($\\lambda$)** with **unknown** rate $\\lambda$.\n",
        "\n",
        "**(c)** Compute $\\hat{\\lambda}$.  \n"
      ]
    },
    {
      "cell_type": "markdown",
      "id": "5eab5409",
      "metadata": {
        "id": "5eab5409"
      },
      "source": [
        "**(a)** Compute the MLE for $\\lambda$.  \n"
      ]
    },
    {
      "cell_type": "code",
      "execution_count": 39,
      "id": "b3a62ba4",
      "metadata": {
        "id": "b3a62ba4",
        "colab": {
          "base_uri": "https://localhost:8080/"
        },
        "outputId": "fd0f2e43-8974-4fb4-d434-cee04cd0175a"
      },
      "outputs": [
        {
          "output_type": "stream",
          "name": "stdout",
          "text": [
            "lambda is 0.4184\n"
          ]
        }
      ],
      "source": [
        "lam_hat = 1 / np.mean(x)\n",
        "print(f'lambda is {lam_hat:.4f}')"
      ]
    },
    {
      "cell_type": "markdown",
      "id": "abe4dd4e",
      "metadata": {
        "id": "abe4dd4e"
      },
      "source": [
        "**(b)** Plot a histogram of the data with the **fitted Exponential** density overlaid."
      ]
    },
    {
      "cell_type": "code",
      "execution_count": 40,
      "id": "b401422e",
      "metadata": {
        "id": "b401422e",
        "colab": {
          "base_uri": "https://localhost:8080/",
          "height": 472
        },
        "outputId": "2846e00c-ba5b-4081-cfc0-55bb1a2a553e"
      },
      "outputs": [
        {
          "output_type": "display_data",
          "data": {
            "text/plain": [
              "<Figure size 640x480 with 1 Axes>"
            ],
            "image/png": "[encoded data removed]"
          },
          "metadata": {}
        }
      ],
      "source": [
        "plt.figure()\n",
        "plt.hist(x, bins=10, density=True, alpha=0.5, label=\"data\")\n",
        "xx = np.linspace(x.min(), x.max(), 100)\n",
        "plt.plot(xx, expon.pdf(xx, scale=1/lam_hat), color='red', label=f'Exponential Fit (MLE: $\\\\hat{{\\\\lambda}}$={lambda_hat:.3f})')\n",
        "plt.xlabel(\"Value\")\n",
        "plt.ylabel(\"Density\")\n",
        "plt.title(\"Exponential Model: Histogram with Fitted Density\")\n",
        "plt.legend()\n",
        "plt.show()"
      ]
    },
    {
      "cell_type": "markdown",
      "id": "4299cea1",
      "metadata": {
        "id": "4299cea1"
      },
      "source": [
        "## Question 4 — Model Comparison (Visual + AIC)\n",
        "\n"
      ]
    },
    {
      "cell_type": "markdown",
      "id": "91767429",
      "metadata": {
        "id": "91767429"
      },
      "source": [
        "**(a)** Visually compare your overlaid fits from Q2 and Q3. Which model seems better?  "
      ]
    },
    {
      "cell_type": "markdown",
      "id": "ef1966e5",
      "metadata": {
        "id": "ef1966e5"
      },
      "source": [
        "Looking, it seems that neither graph fits the data set great. I might say exponential since there is more density on the left side."
      ]
    },
    {
      "cell_type": "markdown",
      "id": "a26954c1",
      "metadata": {
        "id": "a26954c1"
      },
      "source": [
        "**(b)** Compute **AIC** for both models using the log-likelihoods at the MLEs:\n",
        "$$\n",
        "\\mathrm{AIC} = -2\\,\\ell(\\hat{\\theta}) + 2k,\n",
        "$$\n",
        "where $k$ is the number of parameters (Normal: $k=2$ for $\\mu,\\sigma$; Exponential: $k=1$).  "
      ]
    },
    {
      "cell_type": "code",
      "execution_count": 42,
      "id": "dbef2262",
      "metadata": {
        "id": "dbef2262",
        "colab": {
          "base_uri": "https://localhost:8080/"
        },
        "outputId": "0793f976-3229-4a78-fba2-4529e931b1b6"
      },
      "outputs": [
        {
          "output_type": "stream",
          "name": "stdout",
          "text": [
            "Normal is 40.81\n",
            "Exponential is 39.43\n"
          ]
        }
      ],
      "source": [
        "ll_n = np.sum(np.log(norm.pdf(x, mu_hat, sig_hat)))\n",
        "ll_e = np.sum(np.log(expon.pdf(x, scale=1/lam_hat)))\n",
        "\n",
        "def aic(loglik, k): return -2*loglik + 2*k\n",
        "AIC_norm  = aic(ll_n, 2)\n",
        "AIC_exp   = aic(ll_e, 1)\n",
        "\n",
        "print(f\"Normal is {AIC_norm:.2f}\")\n",
        "print(f\"Exponential is {AIC_exp:.2f}\")\n"
      ]
    },
    {
      "cell_type": "markdown",
      "id": "43659e37",
      "metadata": {
        "id": "43659e37"
      },
      "source": [
        "**(c)** Which model is preferred by AIC? Briefly justify."
      ]
    },
    {
      "cell_type": "markdown",
      "id": "1a047559",
      "metadata": {
        "id": "1a047559"
      },
      "source": [
        "Exponential because the lower AIC is better and 39.43 < 40.81"
      ]
    },
    {
      "cell_type": "markdown",
      "id": "e10fa384",
      "metadata": {
        "id": "e10fa384"
      },
      "source": [
        "## Question 5 — Regression under Different Losses\n",
        "\n",
        "Consider the regression dataset (note the last point is a potential outlier):\n",
        "\\[\n",
        "x_reg = (1,2,3,4,5,6,7,8),\\quad\n",
        "y_reg = (2.1, 3.9, 6.0, 8.2, 9.8, 12.1, 14.2, 30.0).\n",
        "\\]\n",
        "\n",
        "We fit $y = \\beta_0 + \\beta_1 x$ under three losses.\n",
        "\n"
      ]
    },
    {
      "cell_type": "markdown",
      "id": "0a7ae8a0",
      "metadata": {
        "id": "0a7ae8a0"
      },
      "source": [
        "**(a)** Compute $(\\hat\\beta_0, \\hat\\beta_1)$ assuming a squared error loss function.\n"
      ]
    },
    {
      "cell_type": "code",
      "execution_count": 70,
      "id": "4ea5bf1e",
      "metadata": {
        "id": "4ea5bf1e",
        "colab": {
          "base_uri": "https://localhost:8080/"
        },
        "outputId": "8325a80b-f91f-441a-a9ee-061787d8419f"
      },
      "outputs": [
        {
          "output_type": "stream",
          "name": "stdout",
          "text": [
            "Beta0 is -3.5000\n",
            "Beta1 is 3.1750\n"
          ]
        }
      ],
      "source": [
        "x = np.array([1, 2, 3, 4, 5, 6, 7, 8]).reshape(-1, 1)\n",
        "y = np.array([2.1, 3.9, 6.0, 8.2, 9.8, 12.1, 14.2, 30.0])\n",
        "\n",
        "from sklearn.linear_model import LinearRegression\n",
        "\n",
        "reg_prep = LinearRegression()\n",
        "\n",
        "mod_reg = reg_prep.fit(x,y)\n",
        "\n",
        "beta_zero = mod_reg.intercept_\n",
        "beta_one = mod_reg.coef_\n",
        "\n",
        "print(f'Beta0 is {beta_zero:.4f}')\n",
        "print(f'Beta1 is {beta_one[0]:.4f}')"
      ]
    },
    {
      "cell_type": "markdown",
      "id": "c335f9a3",
      "metadata": {
        "id": "c335f9a3"
      },
      "source": [
        "**(b)** Compute $(\\hat\\beta_0, \\hat\\beta_1)$ assuming an absolute loss function.\n"
      ]
    },
    {
      "cell_type": "code",
      "execution_count": 71,
      "id": "da1b41bc",
      "metadata": {
        "id": "da1b41bc",
        "colab": {
          "base_uri": "https://localhost:8080/"
        },
        "outputId": "b838edc4-a6ed-4cba-a7fc-7ab52c9651aa"
      },
      "outputs": [
        {
          "output_type": "stream",
          "name": "stdout",
          "text": [
            "Beta0 is 0.0015\n",
            "Beta1 is 2.0283\n"
          ]
        }
      ],
      "source": [
        "x = np.array([1,2,3,4,5,6,7,8])\n",
        "y = np.array([2.1,3.9,6.0,8.2,9.8,12.1,14.2,30.0])\n",
        "\n",
        "def loss_L1(params):\n",
        "    beta_zero, beta_one = params\n",
        "    r = y - (beta_zero + beta_one*x)\n",
        "    return np.sum(np.abs(r))\n",
        "\n",
        "res_L1 = minimize(loss_L1, x0=[0, 1], method=\"Nelder-Mead\")\n",
        "beta_0, beta_1 = res_L1.x\n",
        "\n",
        "print(f'Beta0 is {beta_0:.4f}')\n",
        "print(f'Beta1 is {beta_1:.4f}')"
      ]
    },
    {
      "cell_type": "markdown",
      "id": "efb17812",
      "metadata": {
        "id": "efb17812"
      },
      "source": [
        "**(c)** Compute $(\\hat\\beta_0, \\hat\\beta_1)$ assuming a loss function that is equal to the largest difference $y - \\hat{y}$\n"
      ]
    },
    {
      "cell_type": "code",
      "execution_count": 72,
      "id": "48d1b434",
      "metadata": {
        "id": "48d1b434",
        "colab": {
          "base_uri": "https://localhost:8080/"
        },
        "outputId": "907e89d9-0360-45d9-9f16-8e0a6180a913"
      },
      "outputs": [
        {
          "output_type": "stream",
          "name": "stdout",
          "text": [
            "Beta0 is 0.0015\n",
            "Beta1 is 2.0283\n"
          ]
        }
      ],
      "source": [
        "def max_loss(params):\n",
        "  beta0, beta1 = params\n",
        "  r = np.abs(y - (beta0 + beta1*x))\n",
        "  return np.max(r)\n",
        "\n",
        "res_max = minimize(max_loss, x0=[0, 1], method=\"Nelder-Mead\")\n",
        "beta0, beta1 = res_max.x\n",
        "\n",
        "print(f'Beta0 is {beta_0:.4f}')\n",
        "print(f'Beta1 is {beta_1:.4f}')"
      ]
    },
    {
      "cell_type": "markdown",
      "id": "a0c98989",
      "metadata": {
        "id": "a0c98989"
      },
      "source": [
        "**(d)** Plot the data with **all three** fitted lines on the same axes.  \n"
      ]
    },
    {
      "cell_type": "code",
      "execution_count": 84,
      "id": "932f8726",
      "metadata": {
        "id": "932f8726",
        "colab": {
          "base_uri": "https://localhost:8080/",
          "height": 472
        },
        "outputId": "339de6a4-95db-4cbe-ac02-7046afcfca21"
      },
      "outputs": [
        {
          "output_type": "display_data",
          "data": {
            "text/plain": [
              "<Figure size 640x480 with 1 Axes>"
            ],
            "image/png": "[encoded data removed]"
          },
          "metadata": {}
        }
      ],
      "source": [
        "plt.figure()\n",
        "plt.scatter(x, y, s=20, label=\"data\")\n",
        "xx = np.array([x.min(), x.max()])\n",
        "plt.plot(xx, beta_zero + beta_one*xx, label=\"L2\")\n",
        "plt.plot(xx, beta_0 + beta_1*xx, label=\"L1\")\n",
        "plt.plot(xx, beta0 + beta1*xx, label=\"Max\")\n",
        "plt.xlabel(\"x\"); plt.ylabel(\"y\"); plt.title(\"Regression fits via Loss Minimizations\")\n",
        "plt.legend()\n",
        "plt.show()\n"
      ]
    }
  ],
  "metadata": {
    "colab": {
      "provenance": [],
      "include_colab_link": true
    },
    "language_info": {
      "name": "python"
    },
    "kernelspec": {
      "name": "python3",
      "display_name": "Python 3"
    }
  },
  "nbformat": 4,
  "nbformat_minor": 5
}
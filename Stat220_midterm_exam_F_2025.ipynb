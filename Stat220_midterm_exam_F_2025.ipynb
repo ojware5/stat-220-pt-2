{
 "cells": [
  {
   "cell_type": "markdown",
   "id": "a9fe2122",
   "metadata": {},
   "source": [
    "\n",
    "# Stat 250 Midterm Exam Fall 2025\n",
    "\n",
    "**Instructions:** Answer each question in the provided code/markdown cells. Show your work. Use the dataset `support_team_data.csv` and the provided geometric sample where indicated.\n",
    "\n",
    "**Scenario:** You are a data analyst studying **support team incidents**. You will model discrete incident timing (geometric), explore continuous waiting times, estimate model parameters, compare Exponential vs Normal fits, and build predictive models (linear regression and a regression tree).\n"
   ]
  },
  {
   "cell_type": "code",
   "execution_count": 1,
   "id": "f45588cf",
   "metadata": {},
   "outputs": [
    {
     "data": {
      "text/html": [
       "<div>\n",
       "<style scoped>\n",
       "    .dataframe tbody tr th:only-of-type {\n",
       "        vertical-align: middle;\n",
       "    }\n",
       "\n",
       "    .dataframe tbody tr th {\n",
       "        vertical-align: top;\n",
       "    }\n",
       "\n",
       "    .dataframe thead th {\n",
       "        text-align: right;\n",
       "    }\n",
       "</style>\n",
       "<table border=\"1\" class=\"dataframe\">\n",
       "  <thead>\n",
       "    <tr style=\"text-align: right;\">\n",
       "      <th></th>\n",
       "      <th>wait_time</th>\n",
       "      <th>open_tickets</th>\n",
       "      <th>agent_experience</th>\n",
       "    </tr>\n",
       "  </thead>\n",
       "  <tbody>\n",
       "    <tr>\n",
       "      <th>0</th>\n",
       "      <td>3</td>\n",
       "      <td>7</td>\n",
       "      <td>18</td>\n",
       "    </tr>\n",
       "    <tr>\n",
       "      <th>1</th>\n",
       "      <td>14</td>\n",
       "      <td>12</td>\n",
       "      <td>47</td>\n",
       "    </tr>\n",
       "    <tr>\n",
       "      <th>2</th>\n",
       "      <td>6</td>\n",
       "      <td>13</td>\n",
       "      <td>53</td>\n",
       "    </tr>\n",
       "    <tr>\n",
       "      <th>3</th>\n",
       "      <td>5</td>\n",
       "      <td>8</td>\n",
       "      <td>24</td>\n",
       "    </tr>\n",
       "    <tr>\n",
       "      <th>4</th>\n",
       "      <td>1</td>\n",
       "      <td>15</td>\n",
       "      <td>26</td>\n",
       "    </tr>\n",
       "  </tbody>\n",
       "</table>\n",
       "</div>"
      ],
      "text/plain": [
       "   wait_time  open_tickets  agent_experience\n",
       "0          3             7                18\n",
       "1         14            12                47\n",
       "2          6            13                53\n",
       "3          5             8                24\n",
       "4          1            15                26"
      ]
     },
     "execution_count": 1,
     "metadata": {},
     "output_type": "execute_result"
    }
   ],
   "source": [
    "\n",
    "# Setup (you may import additional standard libraries as needed)\n",
    "import numpy as np\n",
    "import pandas as pd\n",
    "import matplotlib.pyplot as plt\n",
    "\n",
    "\n",
    "df = pd.read_csv(\"support_team_data.csv\")\n",
    "\n",
    "# Peek at the data\n",
    "df.head()\n"
   ]
  },
  {
   "cell_type": "markdown",
   "id": "84fe008a",
   "metadata": {},
   "source": [
    "## Problem 1\n",
    "Assume each hour is an independent trial with incident probability $p = 0.20$. Let $X$ be the number of hours until the **first** incident.\n",
    "\n",
    "**(a)** Compute $P(X=4)$.  "
   ]
  },
  {
   "cell_type": "code",
   "execution_count": null,
   "id": "ec121b3a",
   "metadata": {},
   "outputs": [],
   "source": []
  },
  {
   "cell_type": "markdown",
   "id": "fab069a5",
   "metadata": {},
   "source": [
    "**(b)** Compute $P(X \\ge 2)$.  \n"
   ]
  },
  {
   "cell_type": "code",
   "execution_count": null,
   "id": "645d572c",
   "metadata": {},
   "outputs": [],
   "source": []
  },
  {
   "cell_type": "markdown",
   "id": "933f3ef1",
   "metadata": {},
   "source": [
    "**(c)** State and interpret $E[X]$ and $\\mathrm{Var}(X)$ for the geometric distribution.  \n"
   ]
  },
  {
   "cell_type": "code",
   "execution_count": null,
   "id": "1417eaab",
   "metadata": {},
   "outputs": [],
   "source": []
  },
  {
   "cell_type": "markdown",
   "id": "7686dfca",
   "metadata": {},
   "source": []
  },
  {
   "cell_type": "markdown",
   "id": "7a7592b8",
   "metadata": {},
   "source": [
    "**(d)** In 1–2 sentences, justify why a geometric model is appropriate here.\n"
   ]
  },
  {
   "cell_type": "markdown",
   "id": "b36b6220",
   "metadata": {},
   "source": []
  },
  {
   "cell_type": "markdown",
   "id": "f78e757b",
   "metadata": {},
   "source": [
    "\n",
    "## Problem 2\n",
    "You are given **40 wait times**  of hours-until-first-incident in the data frame. (use `df.wait_time` to access it).\n",
    "\n",
    "**(a)** Derive or state the MLE $\\hat p$ for the geometric model$.  \n"
   ]
  },
  {
   "cell_type": "code",
   "execution_count": null,
   "id": "a7241fbd",
   "metadata": {},
   "outputs": [],
   "source": []
  },
  {
   "cell_type": "markdown",
   "id": "e49a2b3b",
   "metadata": {},
   "source": [
    "**(b)** Compute $\\hat p$ using the provided data.  \n"
   ]
  },
  {
   "cell_type": "code",
   "execution_count": null,
   "id": "88e10c25",
   "metadata": {},
   "outputs": [],
   "source": []
  },
  {
   "cell_type": "markdown",
   "id": "1f237f65",
   "metadata": {},
   "source": [
    "**(c)** Interpret $\\hat p$ in plain language.\n"
   ]
  },
  {
   "cell_type": "markdown",
   "id": "87d324fc",
   "metadata": {},
   "source": []
  },
  {
   "cell_type": "markdown",
   "id": "eacfda88",
   "metadata": {},
   "source": [
    "\n",
    "## Problem 3\n",
    "Compute and report for `wait_time` the following:  \n",
    "- mean, \n",
    "- median, \n",
    "- standard deviation, and \n",
    "- IQR.\n"
   ]
  },
  {
   "cell_type": "code",
   "execution_count": null,
   "id": "460a8fb7",
   "metadata": {},
   "outputs": [],
   "source": [
    "\n",
    "\n"
   ]
  },
  {
   "cell_type": "markdown",
   "id": "d3f7da9d",
   "metadata": {},
   "source": [
    "\n",
    "## Problem 4\n",
    "Create a figure to visualize `wait_time`. \n"
   ]
  },
  {
   "cell_type": "code",
   "execution_count": null,
   "id": "c0d34811",
   "metadata": {},
   "outputs": [],
   "source": [
    "\n",
    "\n"
   ]
  },
  {
   "cell_type": "markdown",
   "id": "f6a6ef29",
   "metadata": {},
   "source": [
    "\n",
    "## Problem 5\n",
    "Assume `wait_time` follows an Exponential($\\lambda$) model. Compute $\\hat\\lambda$ using the 40 values.\n"
   ]
  },
  {
   "cell_type": "code",
   "execution_count": null,
   "id": "22ad598e",
   "metadata": {},
   "outputs": [],
   "source": []
  },
  {
   "cell_type": "markdown",
   "id": "09bf83a6",
   "metadata": {},
   "source": [
    "\n",
    "## Problem 6\n",
    "Assume `wait_time` follows a Normal($\\mu,\\sigma^2$) model. Compute $\\hat\\mu$ and $\\hat\\sigma$ (MLEs).\n"
   ]
  },
  {
   "cell_type": "code",
   "execution_count": null,
   "id": "c06f71ad",
   "metadata": {},
   "outputs": [],
   "source": [
    "\n"
   ]
  },
  {
   "cell_type": "markdown",
   "id": "e10b6c0f",
   "metadata": {},
   "source": [
    "\n",
    "## Problem 7\n",
    "\n",
    "Overlay the fitted **Exponential($\\hat\\lambda$)** and **Normal($\\hat\\mu,\\hat\\sigma$)** densities on the histogram of `wait_time`.\n"
   ]
  },
  {
   "cell_type": "code",
   "execution_count": null,
   "id": "fcb978e7",
   "metadata": {},
   "outputs": [],
   "source": [
    "\n",
    "\n"
   ]
  },
  {
   "cell_type": "markdown",
   "id": "a5e4353f",
   "metadata": {},
   "source": [
    "## Problem 8\n",
    "\n",
    "**(a)** Compute **AIC** for both models and state which is preferred (lower is better).\n",
    "\n"
   ]
  },
  {
   "cell_type": "code",
   "execution_count": null,
   "id": "5e88db5c",
   "metadata": {},
   "outputs": [],
   "source": []
  },
  {
   "cell_type": "markdown",
   "id": "087df606",
   "metadata": {},
   "source": [
    "**(b)** Reconcile AIC with the plot in 1–2 sentences.\n"
   ]
  },
  {
   "cell_type": "markdown",
   "id": "f16f94a0",
   "metadata": {},
   "source": []
  },
  {
   "cell_type": "markdown",
   "id": "a65b9af2",
   "metadata": {},
   "source": [
    "\n",
    "## Problem 9\n",
    "Using the **preferred model** from Q8 (pick one if you don't know):\n",
    "\n",
    "**(a)** Find the **90th percentile** and interpret it in context.  \n"
   ]
  },
  {
   "cell_type": "code",
   "execution_count": null,
   "id": "53ae1fe1",
   "metadata": {},
   "outputs": [],
   "source": []
  },
  {
   "cell_type": "markdown",
   "id": "cd6f411c",
   "metadata": {},
   "source": [
    "**(b)** What percentile corresponds to a wait time of **8 hours**? Show your steps.\n"
   ]
  },
  {
   "cell_type": "code",
   "execution_count": null,
   "id": "27c53aef",
   "metadata": {},
   "outputs": [],
   "source": []
  },
  {
   "cell_type": "markdown",
   "id": "d6808e9a",
   "metadata": {},
   "source": [
    "\n",
    "## Problem 10\n",
    "Fit a linear model predicting `wait_time` using both predictors:\n",
    "$$ Y = \\beta_0 + \\beta_1(\\text{open\\_tickets}) + \\beta_2(\\text{agent\\_experience}) + \\epsilon. $$\n",
    "\n",
    "**(a)** Fit the model and report $\\hat\\beta_0, \\hat\\beta_1, \\hat\\beta_2$.  \n"
   ]
  },
  {
   "cell_type": "code",
   "execution_count": null,
   "id": "ce67fbbc",
   "metadata": {},
   "outputs": [],
   "source": [
    "\n"
   ]
  },
  {
   "cell_type": "markdown",
   "id": "26eaaf9a",
   "metadata": {},
   "source": [
    "**(b)** Interpret $\\beta_1$ and $\\beta_2$ in context.  \n"
   ]
  },
  {
   "cell_type": "code",
   "execution_count": null,
   "id": "97297936",
   "metadata": {},
   "outputs": [],
   "source": []
  },
  {
   "cell_type": "markdown",
   "id": "99058d87",
   "metadata": {},
   "source": [
    "*(Q10b/c write-up here)*"
   ]
  },
  {
   "cell_type": "markdown",
   "id": "d042e277",
   "metadata": {},
   "source": [
    "\n",
    "## Problem 11\n",
    "Fit a regression tree predicting `wait_time` from `open_tickets` and `agent_experience`. Use a max depth of 3.\n",
    "\n",
    "**(a)** Fit and display the tree.  \n"
   ]
  },
  {
   "cell_type": "code",
   "execution_count": null,
   "id": "2adc8bc7",
   "metadata": {},
   "outputs": [],
   "source": [
    "\n"
   ]
  },
  {
   "cell_type": "markdown",
   "id": "e6ec0258",
   "metadata": {},
   "source": [
    "**(b)** Choose one internal node and describe all four values listed. (Note, you need to use the `tree` package as in the class code to get these values)\n"
   ]
  },
  {
   "cell_type": "markdown",
   "id": "6d9b699e",
   "metadata": {},
   "source": []
  }
 ],
 "metadata": {
  "kernelspec": {
   "display_name": "base",
   "language": "python",
   "name": "python3"
  },
  "language_info": {
   "codemirror_mode": {
    "name": "ipython",
    "version": 3
   },
   "file_extension": ".py",
   "mimetype": "text/x-python",
   "name": "python",
   "nbconvert_exporter": "python",
   "pygments_lexer": "ipython3",
   "version": "3.12.6"
  }
 },
 "nbformat": 4,
 "nbformat_minor": 5
}

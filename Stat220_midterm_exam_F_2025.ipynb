{
  "cells": [
    {
      "cell_type": "markdown",
      "id": "a9fe2122",
      "metadata": {
        "id": "a9fe2122"
      },
      "source": [
        "\n",
        "# Stat 250 Midterm Exam Fall 2025\n",
        "\n",
        "**Instructions:** Answer each question in the provided code/markdown cells. Show your work. Use the dataset `support_team_data.csv` and the provided geometric sample where indicated.\n",
        "\n",
        "**Scenario:** You are a data analyst studying **support team incidents**. You will model discrete incident timing (geometric), explore continuous waiting times, estimate model parameters, compare Exponential vs Normal fits, and build predictive models (linear regression and a regression tree).\n"
      ]
    },
    {
      "cell_type": "code",
      "execution_count": 98,
      "id": "f45588cf",
      "metadata": {
        "colab": {
          "base_uri": "https://localhost:8080/",
          "height": 206
        },
        "id": "f45588cf",
        "outputId": "d1e4d1f1-e610-45ae-be59-bb551be33161"
      },
      "outputs": [
        {
          "output_type": "execute_result",
          "data": {
            "text/plain": [
              "   wait_time  open_tickets  agent_experience\n",
              "0          3             7                18\n",
              "1         14            12                47\n",
              "2          6            13                53\n",
              "3          5             8                24\n",
              "4          1            15                26"
            ],
            "text/html": [
              "\n",
              "  <div id=\"df-727e3286-cd33-48da-bb09-4d87e8b5b2ae\" class=\"colab-df-container\">\n",
              "    <div>\n",
              "<style scoped>\n",
              "    .dataframe tbody tr th:only-of-type {\n",
              "        vertical-align: middle;\n",
              "    }\n",
              "\n",
              "    .dataframe tbody tr th {\n",
              "        vertical-align: top;\n",
              "    }\n",
              "\n",
              "    .dataframe thead th {\n",
              "        text-align: right;\n",
              "    }\n",
              "</style>\n",
              "<table border=\"1\" class=\"dataframe\">\n",
              "  <thead>\n",
              "    <tr style=\"text-align: right;\">\n",
              "      <th></th>\n",
              "      <th>wait_time</th>\n",
              "      <th>open_tickets</th>\n",
              "      <th>agent_experience</th>\n",
              "    </tr>\n",
              "  </thead>\n",
              "  <tbody>\n",
              "    <tr>\n",
              "      <th>0</th>\n",
              "      <td>3</td>\n",
              "      <td>7</td>\n",
              "      <td>18</td>\n",
              "    </tr>\n",
              "    <tr>\n",
              "      <th>1</th>\n",
              "      <td>14</td>\n",
              "      <td>12</td>\n",
              "      <td>47</td>\n",
              "    </tr>\n",
              "    <tr>\n",
              "      <th>2</th>\n",
              "      <td>6</td>\n",
              "      <td>13</td>\n",
              "      <td>53</td>\n",
              "    </tr>\n",
              "    <tr>\n",
              "      <th>3</th>\n",
              "      <td>5</td>\n",
              "      <td>8</td>\n",
              "      <td>24</td>\n",
              "    </tr>\n",
              "    <tr>\n",
              "      <th>4</th>\n",
              "      <td>1</td>\n",
              "      <td>15</td>\n",
              "      <td>26</td>\n",
              "    </tr>\n",
              "  </tbody>\n",
              "</table>\n",
              "</div>\n",
              "    <div class=\"colab-df-buttons\">\n",
              "\n",
              "  <div class=\"colab-df-container\">\n",
              "    <button class=\"colab-df-convert\" onclick=\"convertToInteractive('df-727e3286-cd33-48da-bb09-4d87e8b5b2ae')\"\n",
              "            title=\"Convert this dataframe to an interactive table.\"\n",
              "            style=\"display:none;\">\n",
              "\n",
              "  <svg xmlns=\"http://www.w3.org/2000/svg\" height=\"24px\" viewBox=\"0 -960 960 960\">\n",
              "    <path d=\"M120-120v-720h720v720H120Zm60-500h600v-160H180v160Zm220 220h160v-160H400v160Zm0 220h160v-160H400v160ZM180-400h160v-160H180v160Zm440 0h160v-160H620v160ZM180-180h160v-160H180v160Zm440 0h160v-160H620v160Z\"/>\n",
              "  </svg>\n",
              "    </button>\n",
              "\n",
              "  <style>\n",
              "    .colab-df-container {\n",
              "      display:flex;\n",
              "      gap: 12px;\n",
              "    }\n",
              "\n",
              "    .colab-df-convert {\n",
              "      background-color: #E8F0FE;\n",
              "      border: none;\n",
              "      border-radius: 50%;\n",
              "      cursor: pointer;\n",
              "      display: none;\n",
              "      fill: #1967D2;\n",
              "      height: 32px;\n",
              "      padding: 0 0 0 0;\n",
              "      width: 32px;\n",
              "    }\n",
              "\n",
              "    .colab-df-convert:hover {\n",
              "      background-color: #E2EBFA;\n",
              "      box-shadow: 0px 1px 2px rgba(60, 64, 67, 0.3), 0px 1px 3px 1px rgba(60, 64, 67, 0.15);\n",
              "      fill: #174EA6;\n",
              "    }\n",
              "\n",
              "    .colab-df-buttons div {\n",
              "      margin-bottom: 4px;\n",
              "    }\n",
              "\n",
              "    [theme=dark] .colab-df-convert {\n",
              "      background-color: #3B4455;\n",
              "      fill: #D2E3FC;\n",
              "    }\n",
              "\n",
              "    [theme=dark] .colab-df-convert:hover {\n",
              "      background-color: #434B5C;\n",
              "      box-shadow: 0px 1px 3px 1px rgba(0, 0, 0, 0.15);\n",
              "      filter: drop-shadow(0px 1px 2px rgba(0, 0, 0, 0.3));\n",
              "      fill: #FFFFFF;\n",
              "    }\n",
              "  </style>\n",
              "\n",
              "    <script>\n",
              "      const buttonEl =\n",
              "        document.querySelector('#df-727e3286-cd33-48da-bb09-4d87e8b5b2ae button.colab-df-convert');\n",
              "      buttonEl.style.display =\n",
              "        google.colab.kernel.accessAllowed ? 'block' : 'none';\n",
              "\n",
              "      async function convertToInteractive(key) {\n",
              "        const element = document.querySelector('#df-727e3286-cd33-48da-bb09-4d87e8b5b2ae');\n",
              "        const dataTable =\n",
              "          await google.colab.kernel.invokeFunction('convertToInteractive',\n",
              "                                                    [key], {});\n",
              "        if (!dataTable) return;\n",
              "\n",
              "        const docLinkHtml = 'Like what you see? Visit the ' +\n",
              "          '<a target=\"_blank\" href=https://colab.research.google.com/notebooks/data_table.ipynb>data table notebook</a>'\n",
              "          + ' to learn more about interactive tables.';\n",
              "        element.innerHTML = '';\n",
              "        dataTable['output_type'] = 'display_data';\n",
              "        await google.colab.output.renderOutput(dataTable, element);\n",
              "        const docLink = document.createElement('div');\n",
              "        docLink.innerHTML = docLinkHtml;\n",
              "        element.appendChild(docLink);\n",
              "      }\n",
              "    </script>\n",
              "  </div>\n",
              "\n",
              "\n",
              "    <div id=\"df-81327e51-d9ef-4740-8ab7-92018b837a19\">\n",
              "      <button class=\"colab-df-quickchart\" onclick=\"quickchart('df-81327e51-d9ef-4740-8ab7-92018b837a19')\"\n",
              "                title=\"Suggest charts\"\n",
              "                style=\"display:none;\">\n",
              "\n",
              "<svg xmlns=\"http://www.w3.org/2000/svg\" height=\"24px\"viewBox=\"0 0 24 24\"\n",
              "     width=\"24px\">\n",
              "    <g>\n",
              "        <path d=\"M19 3H5c-1.1 0-2 .9-2 2v14c0 1.1.9 2 2 2h14c1.1 0 2-.9 2-2V5c0-1.1-.9-2-2-2zM9 17H7v-7h2v7zm4 0h-2V7h2v10zm4 0h-2v-4h2v4z\"/>\n",
              "    </g>\n",
              "</svg>\n",
              "      </button>\n",
              "\n",
              "<style>\n",
              "  .colab-df-quickchart {\n",
              "      --bg-color: #E8F0FE;\n",
              "      --fill-color: #1967D2;\n",
              "      --hover-bg-color: #E2EBFA;\n",
              "      --hover-fill-color: #174EA6;\n",
              "      --disabled-fill-color: #AAA;\n",
              "      --disabled-bg-color: #DDD;\n",
              "  }\n",
              "\n",
              "  [theme=dark] .colab-df-quickchart {\n",
              "      --bg-color: #3B4455;\n",
              "      --fill-color: #D2E3FC;\n",
              "      --hover-bg-color: #434B5C;\n",
              "      --hover-fill-color: #FFFFFF;\n",
              "      --disabled-bg-color: #3B4455;\n",
              "      --disabled-fill-color: #666;\n",
              "  }\n",
              "\n",
              "  .colab-df-quickchart {\n",
              "    background-color: var(--bg-color);\n",
              "    border: none;\n",
              "    border-radius: 50%;\n",
              "    cursor: pointer;\n",
              "    display: none;\n",
              "    fill: var(--fill-color);\n",
              "    height: 32px;\n",
              "    padding: 0;\n",
              "    width: 32px;\n",
              "  }\n",
              "\n",
              "  .colab-df-quickchart:hover {\n",
              "    background-color: var(--hover-bg-color);\n",
              "    box-shadow: 0 1px 2px rgba(60, 64, 67, 0.3), 0 1px 3px 1px rgba(60, 64, 67, 0.15);\n",
              "    fill: var(--button-hover-fill-color);\n",
              "  }\n",
              "\n",
              "  .colab-df-quickchart-complete:disabled,\n",
              "  .colab-df-quickchart-complete:disabled:hover {\n",
              "    background-color: var(--disabled-bg-color);\n",
              "    fill: var(--disabled-fill-color);\n",
              "    box-shadow: none;\n",
              "  }\n",
              "\n",
              "  .colab-df-spinner {\n",
              "    border: 2px solid var(--fill-color);\n",
              "    border-color: transparent;\n",
              "    border-bottom-color: var(--fill-color);\n",
              "    animation:\n",
              "      spin 1s steps(1) infinite;\n",
              "  }\n",
              "\n",
              "  @keyframes spin {\n",
              "    0% {\n",
              "      border-color: transparent;\n",
              "      border-bottom-color: var(--fill-color);\n",
              "      border-left-color: var(--fill-color);\n",
              "    }\n",
              "    20% {\n",
              "      border-color: transparent;\n",
              "      border-left-color: var(--fill-color);\n",
              "      border-top-color: var(--fill-color);\n",
              "    }\n",
              "    30% {\n",
              "      border-color: transparent;\n",
              "      border-left-color: var(--fill-color);\n",
              "      border-top-color: var(--fill-color);\n",
              "      border-right-color: var(--fill-color);\n",
              "    }\n",
              "    40% {\n",
              "      border-color: transparent;\n",
              "      border-right-color: var(--fill-color);\n",
              "      border-top-color: var(--fill-color);\n",
              "    }\n",
              "    60% {\n",
              "      border-color: transparent;\n",
              "      border-right-color: var(--fill-color);\n",
              "    }\n",
              "    80% {\n",
              "      border-color: transparent;\n",
              "      border-right-color: var(--fill-color);\n",
              "      border-bottom-color: var(--fill-color);\n",
              "    }\n",
              "    90% {\n",
              "      border-color: transparent;\n",
              "      border-bottom-color: var(--fill-color);\n",
              "    }\n",
              "  }\n",
              "</style>\n",
              "\n",
              "      <script>\n",
              "        async function quickchart(key) {\n",
              "          const quickchartButtonEl =\n",
              "            document.querySelector('#' + key + ' button');\n",
              "          quickchartButtonEl.disabled = true;  // To prevent multiple clicks.\n",
              "          quickchartButtonEl.classList.add('colab-df-spinner');\n",
              "          try {\n",
              "            const charts = await google.colab.kernel.invokeFunction(\n",
              "                'suggestCharts', [key], {});\n",
              "          } catch (error) {\n",
              "            console.error('Error during call to suggestCharts:', error);\n",
              "          }\n",
              "          quickchartButtonEl.classList.remove('colab-df-spinner');\n",
              "          quickchartButtonEl.classList.add('colab-df-quickchart-complete');\n",
              "        }\n",
              "        (() => {\n",
              "          let quickchartButtonEl =\n",
              "            document.querySelector('#df-81327e51-d9ef-4740-8ab7-92018b837a19 button');\n",
              "          quickchartButtonEl.style.display =\n",
              "            google.colab.kernel.accessAllowed ? 'block' : 'none';\n",
              "        })();\n",
              "      </script>\n",
              "    </div>\n",
              "\n",
              "    </div>\n",
              "  </div>\n"
            ],
            "application/vnd.google.colaboratory.intrinsic+json": {
              "type": "dataframe",
              "variable_name": "df",
              "summary": "{\n  \"name\": \"df\",\n  \"rows\": 40,\n  \"fields\": [\n    {\n      \"column\": \"wait_time\",\n      \"properties\": {\n        \"dtype\": \"number\",\n        \"std\": 4,\n        \"min\": 1,\n        \"max\": 16,\n        \"num_unique_values\": 12,\n        \"samples\": [\n          7,\n          4,\n          3\n        ],\n        \"semantic_type\": \"\",\n        \"description\": \"\"\n      }\n    },\n    {\n      \"column\": \"open_tickets\",\n      \"properties\": {\n        \"dtype\": \"number\",\n        \"std\": 4,\n        \"min\": 1,\n        \"max\": 15,\n        \"num_unique_values\": 14,\n        \"samples\": [\n          2,\n          10,\n          7\n        ],\n        \"semantic_type\": \"\",\n        \"description\": \"\"\n      }\n    },\n    {\n      \"column\": \"agent_experience\",\n      \"properties\": {\n        \"dtype\": \"number\",\n        \"std\": 18,\n        \"min\": 1,\n        \"max\": 60,\n        \"num_unique_values\": 27,\n        \"samples\": [\n          41,\n          9,\n          29\n        ],\n        \"semantic_type\": \"\",\n        \"description\": \"\"\n      }\n    }\n  ]\n}"
            }
          },
          "metadata": {},
          "execution_count": 98
        }
      ],
      "source": [
        "import numpy as np\n",
        "import pandas as pd\n",
        "import matplotlib.pyplot as plt\n",
        "from scipy.stats import expon, norm, binom\n",
        "\n",
        "\n",
        "\n",
        "\n",
        "df = pd.read_csv(\"support_team_data.csv\")\n",
        "\n",
        "df.head()\n"
      ]
    },
    {
      "cell_type": "markdown",
      "id": "84fe008a",
      "metadata": {
        "id": "84fe008a"
      },
      "source": [
        "## Problem 1\n",
        "Assume each hour is an independent trial with incident probability $p = 0.20$. Let $X$ be the number of hours until the **first** incident.\n",
        "\n",
        "**(a)** Compute $P(X=4)$.  "
      ]
    },
    {
      "cell_type": "code",
      "execution_count": 11,
      "id": "ec121b3a",
      "metadata": {
        "colab": {
          "base_uri": "https://localhost:8080/"
        },
        "id": "ec121b3a",
        "outputId": "968e0e65-4ada-4f2a-87cb-526ab8d800e3"
      },
      "outputs": [
        {
          "output_type": "stream",
          "name": "stdout",
          "text": [
            "P(X=4) is  0.1024\n"
          ]
        }
      ],
      "source": [
        "#geometric as no number of successes\n",
        "#p*(1-p)**n-1\n",
        "p = 0.2\n",
        "n = 4\n",
        "first = p*(1-p)**(n-1)\n",
        "print(f'P(X=4) is {first: .4f}')\n"
      ]
    },
    {
      "cell_type": "markdown",
      "id": "fab069a5",
      "metadata": {
        "id": "fab069a5"
      },
      "source": [
        "**(b)** Compute $P(X \\ge 2)$.  \n"
      ]
    },
    {
      "cell_type": "code",
      "execution_count": 10,
      "id": "645d572c",
      "metadata": {
        "colab": {
          "base_uri": "https://localhost:8080/"
        },
        "id": "645d572c",
        "outputId": "34fd355b-9b62-4db2-b26f-046390a98fbb"
      },
      "outputs": [
        {
          "output_type": "stream",
          "name": "stdout",
          "text": [
            "P(X>=2) is 0.8\n"
          ]
        }
      ],
      "source": [
        "#no incident in hour 1, thus find probability of no successes\n",
        "#1-p\n",
        "result = 1-p\n",
        "print(f'P(X>=2) is {result}')"
      ]
    },
    {
      "cell_type": "markdown",
      "id": "933f3ef1",
      "metadata": {
        "id": "933f3ef1"
      },
      "source": [
        "**(c)** State and interpret $E[X]$ and $\\mathrm{Var}(X)$ for the geometric distribution.  \n"
      ]
    },
    {
      "cell_type": "code",
      "execution_count": 28,
      "id": "1417eaab",
      "metadata": {
        "colab": {
          "base_uri": "https://localhost:8080/"
        },
        "id": "1417eaab",
        "outputId": "d0945632-c7a3-4247-e939-f0af99fc7325"
      },
      "outputs": [
        {
          "output_type": "stream",
          "name": "stdout",
          "text": [
            "E[X] is 5.0. This means it is expected that it will take 5.0 hours for the first incident to occur.\n",
            "Var(X) is 20.0. This means that the variability of the expected number of hours can easily change to other hours shown by the large number of 20.0.\n"
          ]
        }
      ],
      "source": [
        "#E[X] = 1/p\n",
        "expected = 1/p\n",
        "print(f'E[X] is {expected}. This means it is expected that it will take {expected} hours for the first incident to occur.')\n",
        "#Var(X) = (1-p)/(p**2)\n",
        "variance = (1-p)/(p**2)\n",
        "print(f'Var(X) is{variance: .1f}. This means that the variability of the expected number of hours can easily change to other hours shown by the large number of{variance: .1f}.')"
      ]
    },
    {
      "cell_type": "markdown",
      "id": "7a7592b8",
      "metadata": {
        "id": "7a7592b8"
      },
      "source": [
        "**(d)** In 1–2 sentences, justify why a geometric model is appropriate here.\n"
      ]
    },
    {
      "cell_type": "markdown",
      "id": "b36b6220",
      "metadata": {
        "id": "b36b6220"
      },
      "source": [
        "Geometric model is appropriate as we do not know the exact number of successful trials. Geometric model can tell us the success at least at kth trial."
      ]
    },
    {
      "cell_type": "markdown",
      "id": "f78e757b",
      "metadata": {
        "id": "f78e757b"
      },
      "source": [
        "\n",
        "## Problem 2\n",
        "You are given **40 wait times**  of hours-until-first-incident in the data frame. (use `df.wait_time` to access it).\n",
        "\n",
        "**(a)** Derive or state the MLE $\\hat p$ for the geometric model$.  \n"
      ]
    },
    {
      "cell_type": "code",
      "execution_count": 43,
      "id": "a7241fbd",
      "metadata": {
        "colab": {
          "base_uri": "https://localhost:8080/"
        },
        "id": "a7241fbd",
        "outputId": "1da3400a-ba69-44fb-e4d6-3efa52d3403b"
      },
      "outputs": [
        {
          "output_type": "stream",
          "name": "stdout",
          "text": [
            "𝑝̂ = 1/mean. Mean = summation(X)/n. Thus, 𝑝̂ = n/summation(X).\n"
          ]
        }
      ],
      "source": [
        "print('𝑝̂ = 1/mean. Mean = summation(X)/n. Thus, 𝑝̂ = n/summation(X).')\n",
        "\n"
      ]
    },
    {
      "cell_type": "markdown",
      "id": "e49a2b3b",
      "metadata": {
        "id": "e49a2b3b"
      },
      "source": [
        "**(b)** Compute $\\hat p$ using the provided data.  \n"
      ]
    },
    {
      "cell_type": "code",
      "execution_count": 44,
      "id": "88e10c25",
      "metadata": {
        "colab": {
          "base_uri": "https://localhost:8080/"
        },
        "id": "88e10c25",
        "outputId": "8ba00648-7f77-4855-f7d6-5fbc62f6b01e"
      },
      "outputs": [
        {
          "output_type": "stream",
          "name": "stdout",
          "text": [
            "𝑝̂ is  0.2198\n"
          ]
        }
      ],
      "source": [
        "#𝑝̂ = 1/mean\n",
        "probability = 1/df.wait_time.mean()\n",
        "print(f'𝑝̂ is {probability: .4f}')\n"
      ]
    },
    {
      "cell_type": "markdown",
      "id": "1f237f65",
      "metadata": {
        "id": "1f237f65"
      },
      "source": [
        "**(c)** Interpret $\\hat p$ in plain language.\n"
      ]
    },
    {
      "cell_type": "markdown",
      "id": "87d324fc",
      "metadata": {
        "id": "87d324fc"
      },
      "source": [
        "𝑝̂ is the estimated probability of an incident occuring at any given hour."
      ]
    },
    {
      "cell_type": "markdown",
      "id": "eacfda88",
      "metadata": {
        "id": "eacfda88"
      },
      "source": [
        "\n",
        "## Problem 3\n",
        "Compute and report for `wait_time` the following:  \n",
        "- mean,\n",
        "- median,\n",
        "- standard deviation, and\n",
        "- IQR.\n"
      ]
    },
    {
      "cell_type": "code",
      "execution_count": 45,
      "id": "460a8fb7",
      "metadata": {
        "colab": {
          "base_uri": "https://localhost:8080/"
        },
        "id": "460a8fb7",
        "outputId": "4e2b55dc-3fd8-4caa-e147-c232fa8268b9"
      },
      "outputs": [
        {
          "output_type": "stream",
          "name": "stdout",
          "text": [
            "Mean:  4.55\n",
            "Median:  3.00\n",
            "Standard Deviation:  4.27\n",
            "IQR:  5.00\n"
          ]
        }
      ],
      "source": [
        "mean = df.wait_time.mean()\n",
        "median = df.wait_time.median()\n",
        "std = df.wait_time.std()\n",
        "iqr = df.wait_time.quantile(0.75) - df.wait_time.quantile(0.25)\n",
        "print(f'Mean: {mean: .2f}')\n",
        "print(f'Median: {median: .2f}')\n",
        "print(f'Standard Deviation: {std: .2f}')\n",
        "print(f'IQR: {iqr: .2f}')\n",
        "\n"
      ]
    },
    {
      "cell_type": "markdown",
      "id": "d3f7da9d",
      "metadata": {
        "id": "d3f7da9d"
      },
      "source": [
        "\n",
        "## Problem 4\n",
        "Create a figure to visualize `wait_time`.\n"
      ]
    },
    {
      "cell_type": "code",
      "execution_count": 58,
      "id": "c0d34811",
      "metadata": {
        "colab": {
          "base_uri": "https://localhost:8080/",
          "height": 410
        },
        "id": "c0d34811",
        "outputId": "4a7976a9-85a2-454f-dc94-dea3fa76bd36"
      },
      "outputs": [
        {
          "output_type": "display_data",
          "data": {
            "text/plain": [
              "<Figure size 800x400 with 1 Axes>"
            ],
            "image/png": "[encoded data removed]"
          },
          "metadata": {}
        }
      ],
      "source": [
        "channing = df.wait_time\n",
        "channing.shape\n",
        "plt.figure(figsize=(8, 4))\n",
        "plt.hist(channing, bins=15, edgecolor='black')\n",
        "plt.title(f'Histogram of Wait Time')\n",
        "plt.xlabel(\"Time\")\n",
        "plt.ylabel('Frequency')\n",
        "plt.show()"
      ]
    },
    {
      "cell_type": "markdown",
      "id": "f6a6ef29",
      "metadata": {
        "id": "f6a6ef29"
      },
      "source": [
        "\n",
        "## Problem 5\n",
        "Assume `wait_time` follows an Exponential($\\lambda$) model. Compute $\\hat\\lambda$ using the 40 values.\n"
      ]
    },
    {
      "cell_type": "code",
      "execution_count": 64,
      "id": "22ad598e",
      "metadata": {
        "colab": {
          "base_uri": "https://localhost:8080/"
        },
        "id": "22ad598e",
        "outputId": "bcba11c9-920c-429a-b2c9-29ca301d6144"
      },
      "outputs": [
        {
          "output_type": "stream",
          "name": "stdout",
          "text": [
            "lambda hat is  0.2198\n"
          ]
        }
      ],
      "source": [
        "#lambda = 1/mean = n/summation(X)\n",
        "n = 40\n",
        "x = df.wait_time.sum()\n",
        "lambda_hat = n/x\n",
        "print(f'lambda hat is {lambda_hat: .4f}')"
      ]
    },
    {
      "cell_type": "markdown",
      "id": "09bf83a6",
      "metadata": {
        "id": "09bf83a6"
      },
      "source": [
        "\n",
        "## Problem 6\n",
        "Assume `wait_time` follows a Normal($\\mu,\\sigma^2$) model. Compute $\\hat\\mu$ and $\\hat\\sigma$ (MLEs).\n"
      ]
    },
    {
      "cell_type": "code",
      "execution_count": 70,
      "id": "c06f71ad",
      "metadata": {
        "colab": {
          "base_uri": "https://localhost:8080/"
        },
        "id": "c06f71ad",
        "outputId": "39f8c6bf-ec18-4c30-fd40-da2ec48451ae"
      },
      "outputs": [
        {
          "output_type": "stream",
          "name": "stdout",
          "text": [
            "mu hat is  4.5500\n",
            "sigma hat is  4.2187\n"
          ]
        }
      ],
      "source": [
        "#mu = mean\n",
        "#sigma  = square(1/n * Summation(x - mean)^2)\n",
        "mu_mle = np.sum(channing)/len(channing)\n",
        "sigma_mle = np.sqrt(np.sum((channing-mu_mle)**2)/len(channing))\n",
        "print(f'mu hat is {mu_mle: .4f}')\n",
        "print(f'sigma hat is {sigma_mle: .4f}')"
      ]
    },
    {
      "cell_type": "markdown",
      "id": "e10b6c0f",
      "metadata": {
        "id": "e10b6c0f"
      },
      "source": [
        "\n",
        "## Problem 7\n",
        "\n",
        "Overlay the fitted **Exponential($\\hat\\lambda$)** and **Normal($\\hat\\mu,\\hat\\sigma$)** densities on the histogram of `wait_time`.\n"
      ]
    },
    {
      "cell_type": "code",
      "execution_count": 87,
      "id": "fcb978e7",
      "metadata": {
        "colab": {
          "base_uri": "https://localhost:8080/",
          "height": 487
        },
        "id": "fcb978e7",
        "outputId": "d25fe98b-02f9-43c3-c91d-4342ca86a703"
      },
      "outputs": [
        {
          "output_type": "display_data",
          "data": {
            "text/plain": [
              "<Figure size 640x480 with 1 Axes>"
            ],
            "image/png": "[encoded data removed]"
          },
          "metadata": {}
        }
      ],
      "source": [
        "plt.figure()\n",
        "bins = np.arange(-0.5, 10.5, 1.0)\n",
        "plt.hist(channing, bins=bins, density=True, alpha=0.5, label=\"data\")\n",
        "\n",
        "k = np.arange(0, 18)\n",
        "\n",
        "pdf_n = norm.pdf(k, mu_mle, sigma_mle)\n",
        "pdf_n = pdf_n / np.sum(pdf_n)\n",
        "plt.plot(k, pdf_n, marker=\"o\", label=\"Normal (renorm)\")\n",
        "\n",
        "pdf_e = expon.pdf(k, scale=1/lambda_hat)\n",
        "pdf_e = pdf_e / np.sum(pdf_e)\n",
        "plt.plot(k, pdf_e, marker=\"o\", label=\"Exponential (renorm)\")\n",
        "\n",
        "plt.xticks(k)\n",
        "plt.xlabel(\"Value 0..10\"); plt.ylabel(\"Probability\")\n",
        "plt.title(\"Model overlays on integer data\")\n",
        "plt.legend()\n",
        "plt.xlim(0)\n",
        "plt.tight_layout()\n",
        "plt.show()"
      ]
    },
    {
      "cell_type": "markdown",
      "id": "a5e4353f",
      "metadata": {
        "id": "a5e4353f"
      },
      "source": [
        "## Problem 8\n",
        "\n",
        "**(a)** Compute **AIC** for both models and state which is preferred (lower is better).\n",
        "\n"
      ]
    },
    {
      "cell_type": "code",
      "execution_count": 90,
      "id": "5e88db5c",
      "metadata": {
        "colab": {
          "base_uri": "https://localhost:8080/"
        },
        "id": "5e88db5c",
        "outputId": "dd88891f-4e5a-4ab0-e548-2c3ed11ea09c"
      },
      "outputs": [
        {
          "output_type": "stream",
          "name": "stdout",
          "text": [
            "  Normal:         232.68\n",
            "  Exponential:    203.21\n",
            " 203.21 is better since it is lower.\n"
          ]
        }
      ],
      "source": [
        "ll_n = np.sum(np.log(norm.pdf(channing, mu_mle, sigma_mle)))\n",
        "ll_e = np.sum(np.log(expon.pdf(channing, scale=1/lambda_hat)))\n",
        "\n",
        "def aic(loglik, k): return -2*loglik + 2*k\n",
        "AIC_norm  = aic(ll_n, 2)\n",
        "AIC_exp   = aic(ll_e, 1)\n",
        "\n",
        "print(f\"  Normal:         {AIC_norm:.2f}\")\n",
        "print(f\"  Exponential:    {AIC_exp:.2f}\")\n",
        "print(f'{AIC_exp: .2f} is better since it is lower.')"
      ]
    },
    {
      "cell_type": "markdown",
      "id": "087df606",
      "metadata": {
        "id": "087df606"
      },
      "source": [
        "**(b)** Reconcile AIC with the plot in 1–2 sentences.\n"
      ]
    },
    {
      "cell_type": "markdown",
      "id": "f16f94a0",
      "metadata": {
        "id": "f16f94a0"
      },
      "source": [
        "The exponential curve fits better with the graph and follows the right skewed graph unlike the normal curve which fits with the AIC being lower for exponential."
      ]
    },
    {
      "cell_type": "markdown",
      "id": "a65b9af2",
      "metadata": {
        "id": "a65b9af2"
      },
      "source": [
        "\n",
        "## Problem 9\n",
        "Using the **preferred model** from Q8 (pick one if you don't know):\n",
        "\n",
        "**(a)** Find the **90th percentile** and interpret it in context.  \n"
      ]
    },
    {
      "cell_type": "code",
      "execution_count": 93,
      "id": "53ae1fe1",
      "metadata": {
        "colab": {
          "base_uri": "https://localhost:8080/"
        },
        "id": "53ae1fe1",
        "outputId": "5b394d0f-bbe0-44da-d9f2-85e13442082d"
      },
      "outputs": [
        {
          "output_type": "stream",
          "name": "stdout",
          "text": [
            "90th percentile = 10.4768\n",
            "That means that it will be within  10.48 hour wait time for 90% of first incidents.\n"
          ]
        }
      ],
      "source": [
        "lam = lambda_hat\n",
        "p = expon.cdf(15, scale=1/lam) - expon.cdf(5, scale=1/lam)\n",
        "q90 = expon.ppf(0.90, scale=1/lam)\n",
        "print(f\"90th percentile ={q90: .4f}\")\n",
        "print(f'That means that it will be within {q90: .2f} hour wait time for 90% of first incidents.')"
      ]
    },
    {
      "cell_type": "markdown",
      "id": "cd6f411c",
      "metadata": {
        "id": "cd6f411c"
      },
      "source": [
        "**(b)** What percentile corresponds to a wait time of **8 hours**? Show your steps.\n"
      ]
    },
    {
      "cell_type": "code",
      "execution_count": 94,
      "id": "27c53aef",
      "metadata": {
        "colab": {
          "base_uri": "https://localhost:8080/"
        },
        "id": "27c53aef",
        "outputId": "04fccef8-8f7b-4371-eac3-fc3b0142b846"
      },
      "outputs": [
        {
          "output_type": "stream",
          "name": "stdout",
          "text": [
            "The percentile for 8 hours is  0.8277\n"
          ]
        }
      ],
      "source": [
        "#P(X<8) = 1 - e**(-lambda*8) aka CDF of 8 minus 1\n",
        "percentile = 1.0 - np.exp(-lambda_hat * 8.0)\n",
        "print(f'The percentile for 8 hours is {percentile: .4f}')"
      ]
    },
    {
      "cell_type": "markdown",
      "id": "d6808e9a",
      "metadata": {
        "id": "d6808e9a"
      },
      "source": [
        "\n",
        "## Problem 10\n",
        "Fit a linear model predicting `wait_time` using both predictors:\n",
        "$$ Y = \\beta_0 + \\beta_1(\\text{open\\_tickets}) + \\beta_2(\\text{agent\\_experience}) + \\epsilon. $$\n",
        "\n",
        "**(a)** Fit the model and report $\\hat\\beta_0, \\hat\\beta_1, \\hat\\beta_2$.  \n"
      ]
    },
    {
      "cell_type": "code",
      "execution_count": 104,
      "id": "ce67fbbc",
      "metadata": {
        "colab": {
          "base_uri": "https://localhost:8080/"
        },
        "id": "ce67fbbc",
        "outputId": "47da31de-5299-4567-e767-1de91999498a"
      },
      "outputs": [
        {
          "output_type": "stream",
          "name": "stdout",
          "text": [
            "Intercept (Beta_0):  3.6492\n",
            "Coefficient (Beta_1): -0.2048\n",
            "Coefficient (Beta_2):  0.0924\n"
          ]
        }
      ],
      "source": [
        "from sklearn.linear_model import LinearRegression\n",
        "\n",
        "x = df[['open_tickets', 'agent_experience']]\n",
        "y = df.wait_time\n",
        "\n",
        "model = LinearRegression()\n",
        "\n",
        "model.fit(x, y)\n",
        "\n",
        "print(f'Intercept (Beta_0): {model.intercept_: .4f}')\n",
        "print(f'Coefficient (Beta_1): {model.coef_[0]: .4f}')\n",
        "print(f'Coefficient (Beta_2): {model.coef_[1]: .4f}')"
      ]
    },
    {
      "cell_type": "markdown",
      "id": "26eaaf9a",
      "metadata": {
        "id": "26eaaf9a"
      },
      "source": [
        "**(b)** Interpret $\\beta_1$ and $\\beta_2$ in context.  \n"
      ]
    },
    {
      "cell_type": "markdown",
      "source": [
        "𝛽1 is the expected change of Y (wait time) when X (open tickets) changes holding all else constant (agent experience). 𝛽2 is the expected change of Y (wait time) when X (agent experience) changes holding all else constant (open tickets)."
      ],
      "metadata": {
        "id": "im0_zehzfCA4"
      },
      "id": "im0_zehzfCA4"
    },
    {
      "cell_type": "markdown",
      "id": "d042e277",
      "metadata": {
        "id": "d042e277"
      },
      "source": [
        "\n",
        "## Problem 11\n",
        "Fit a regression tree predicting `wait_time` from `open_tickets` and `agent_experience`. Use a max depth of 3.\n",
        "\n",
        "**(a)** Fit and display the tree.  \n"
      ]
    },
    {
      "cell_type": "code",
      "execution_count": 108,
      "id": "2adc8bc7",
      "metadata": {
        "colab": {
          "base_uri": "https://localhost:8080/",
          "height": 345
        },
        "id": "2adc8bc7",
        "outputId": "7a81235f-e39e-418c-e851-ceea3fcd67fd"
      },
      "outputs": [
        {
          "output_type": "display_data",
          "data": {
            "text/plain": [
              "<Figure size 1200x400 with 1 Axes>"
            ],
            "image/png": "[encoded data removed]"
          },
          "metadata": {}
        }
      ],
      "source": [
        "from sklearn.tree import DecisionTreeRegressor\n",
        "from sklearn import tree\n",
        "\n",
        "reg_tree = DecisionTreeRegressor(max_depth=3)\n",
        "reg_tree.fit(x, y)\n",
        "\n",
        "plt.figure(figsize=(12, 4))\n",
        "tree.plot_tree(reg_tree, fontsize=6, filled=True, feature_names=x.columns, rounded=True)\n",
        "plt.show()\n",
        ""
      ]
    },
    {
      "cell_type": "markdown",
      "id": "e6ec0258",
      "metadata": {
        "id": "e6ec0258"
      },
      "source": [
        "**(b)** Choose one internal node and describe all four values listed. (Note, you need to use the `tree` package as in the class code to get these values)\n"
      ]
    },
    {
      "cell_type": "markdown",
      "id": "6d9b699e",
      "metadata": {
        "id": "6d9b699e"
      },
      "source": [
        "I choose the first true (left) internal node with agent_experience <=8.5. First value will tell us the split. The values that have an agent_experience that is less than or equal to 8.5 will move on to the left (true) boxes and vise versa for the right boxes. Squared_error shows how much variation is in the box. Since the number is a little higher of 4.821, the values are pretty varied in this box. The samples will tell us how many values are in the node which is 21. The value tells us the mean of the mode which is 2.81 hours for wait times."
      ]
    }
  ],
  "metadata": {
    "kernelspec": {
      "display_name": "base",
      "language": "python",
      "name": "python3"
    },
    "language_info": {
      "codemirror_mode": {
        "name": "ipython",
        "version": 3
      },
      "file_extension": ".py",
      "mimetype": "text/x-python",
      "name": "python",
      "nbconvert_exporter": "python",
      "pygments_lexer": "ipython3",
      "version": "3.12.6"
    },
    "colab": {
      "provenance": []
    }
  },
  "nbformat": 4,
  "nbformat_minor": 5
}